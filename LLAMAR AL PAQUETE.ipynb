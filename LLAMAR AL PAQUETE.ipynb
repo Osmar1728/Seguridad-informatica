{
 "cells": [
  {
   "cell_type": "code",
   "execution_count": 4,
   "id": "85747cd5",
   "metadata": {
    "scrolled": true
   },
   "outputs": [
    {
     "name": "stdout",
     "output_type": "stream",
     "text": [
      "Ingresa el nombre de un futbolista favorito (o escribe 'salir' para terminar): messi\n",
      "Ingresa el nombre de un futbolista favorito (o escribe 'salir' para terminar): cr7\n",
      "Ingresa el nombre de un futbolista favorito (o escribe 'salir' para terminar): kaka\n",
      "Ingresa el nombre de un futbolista favorito (o escribe 'salir' para terminar): cr9\n",
      "Ingresa el nombre de un futbolista favorito (o escribe 'salir' para terminar): son\n",
      "Ingresa el nombre de un futbolista favorito (o escribe 'salir' para terminar): hazard\n",
      "Ingresa el nombre de un futbolista favorito (o escribe 'salir' para terminar): kane\n",
      "Ingresa el nombre de un futbolista favorito (o escribe 'salir' para terminar): salir\n",
      "Tu top de jugadores favoritos:\n",
      "1. messi\n",
      "2. cr7\n",
      "3. kaka\n",
      "4. cr9\n",
      "5. son\n",
      "6. hazard\n",
      "7. kane\n"
     ]
    }
   ],
   "source": [
    "from paquete import modulo2\n",
    "datosp = modulo2.fifaa()\n"
   ]
  },
  {
   "cell_type": "code",
   "execution_count": 3,
   "id": "7232279b",
   "metadata": {
    "scrolled": true
   },
   "outputs": [
    {
     "name": "stdout",
     "output_type": "stream",
     "text": [
      "Cual es tu nombre? osmar\n",
      "Tu apellido paterno casillas\n",
      "Tu apellido materno gallardo\n",
      "Tu edad20\n",
      "Cuanto mides 187\n",
      "Hola, mi nombre es: osmar casillas gallardo tengo 20 años de edad, yo mido 187.0\n"
     ]
    }
   ],
   "source": [
    "from paquete import modulo1\n",
    "datosp = modulo1.info()\n"
   ]
  },
  {
   "cell_type": "code",
   "execution_count": 2,
   "id": "26e22854",
   "metadata": {},
   "outputs": [
    {
     "name": "stdout",
     "output_type": "stream",
     "text": [
      "\n",
      "Tienda de jersey\n",
      "1. Jugador: Messi, Talla: S,Equipo: Barcelona,Dorsal: 10, Precio: $999\n",
      "2. Jugador: Neymar, Talla: M,Equipo: Brasil,Dorsal: 10, Precio: $1.2\n",
      "3. Jugador: Santi, Talla: M,Equipo: Feyenord,Dorsal: 29, Precio: $1.2\n",
      "4. Jugador: Camilo, Talla: G,Equipo: Atlas,Dorsal: 12, Precio: $1.399\n",
      "5. Jugador: Mbappe, Talla: S,Equipo: Francia,Dorsal: 10, Precio: $999\n",
      "6. Jugador: Villafaña, Talla: M,Equipo: Atlas,Dorsal: 9, Precio: $1.599\n",
      "Seleccione el jersey que desea comprar (1-6): 3\n",
      "Ha seleccionado la camisa de Santi en talla M con el dorsal 29.\n",
      "¿Desea comprar esta camisa? (Sí/No): no\n",
      "Compra cancelada. Gracias por visitar la tienda.\n"
     ]
    }
   ],
   "source": [
    "from paquete import modulo3\n",
    "\n",
    "print (\"\\nTienda de jersey\")\n",
    "playeras = modulo3.llamar_playeras()\n",
    "\n",
    "def tienda():\n",
    "\n",
    "    for i, playera in enumerate(playeras, start=1):\n",
    "        print(f\"{i}. Jugador: {playera['jugador']}, Talla: {playera['talla']},Equipo: {playera['equipo']},Dorsal: {playera['dorsal']}, Precio: ${playera['precio']}\")\n",
    "        \n",
    "    seleccion = int(input(\"Seleccione el jersey que desea comprar (1-6): \"))\n",
    "\n",
    "    if seleccion < 1 or seleccion > 6:\n",
    "        print(\"No hay disponible\")\n",
    "        return\n",
    "\n",
    "    quiero = playeras[seleccion - 1]\n",
    "    print(f\"Ha seleccionado la camisa de {quiero['jugador']} en talla {quiero['talla']} con el dorsal {quiero['dorsal']}.\")\n",
    "\n",
    "    # Solicitar al usuario que confirme la compra\n",
    "    confirmacion = input(\"¿Desea comprar esta camisa? (Sí/No): \")\n",
    "\n",
    "    if confirmacion.lower() == \"si\":\n",
    "        print(f\"¡Compra exitosa! El total a pagar es ${quiero['precio']}\")\n",
    "    else:\n",
    "        print(\"Compra cancelada. Gracias por visitar la tienda.\")\n",
    "        \n",
    "tienda()"
   ]
  },
  {
   "cell_type": "code",
   "execution_count": null,
   "id": "999ead9a",
   "metadata": {},
   "outputs": [],
   "source": []
  },
  {
   "cell_type": "code",
   "execution_count": null,
   "id": "a937075b",
   "metadata": {},
   "outputs": [],
   "source": []
  },
  {
   "cell_type": "code",
   "execution_count": null,
   "id": "0cce50b6",
   "metadata": {},
   "outputs": [],
   "source": []
  },
  {
   "cell_type": "code",
   "execution_count": null,
   "id": "f59a1ea6",
   "metadata": {},
   "outputs": [],
   "source": []
  }
 ],
 "metadata": {
  "kernelspec": {
   "display_name": "Python 3 (ipykernel)",
   "language": "python",
   "name": "python3"
  },
  "language_info": {
   "codemirror_mode": {
    "name": "ipython",
    "version": 3
   },
   "file_extension": ".py",
   "mimetype": "text/x-python",
   "name": "python",
   "nbconvert_exporter": "python",
   "pygments_lexer": "ipython3",
   "version": "3.11.4"
  }
 },
 "nbformat": 4,
 "nbformat_minor": 5
}
