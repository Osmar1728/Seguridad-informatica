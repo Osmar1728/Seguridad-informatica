{
 "cells": [
  {
   "cell_type": "code",
   "execution_count": 5,
   "id": "a4b2046c",
   "metadata": {},
   "outputs": [
    {
     "name": "stdout",
     "output_type": "stream",
     "text": [
      "Osmar estás en un rango de peso normal: IMC = 24.7\n"
     ]
    }
   ],
   "source": [
    "persona = {\n",
    "    \"nombre\": \"Osmar\",\n",
    "    \"ap\": \"Casillas\",\n",
    "    \"am\": \"Gallardo\",\n",
    "    \"edad\": 19,\n",
    "    \"peso\": 81,\n",
    "    \"altura\": 1.81,\n",
    "    \"ciudad\": \"Zapopan\"\n",
    "}\n",
    "\n",
    "def imc(altura, peso, nombre):\n",
    "    imc_p = peso / altura ** 2\n",
    "\n",
    "    if imc_p < 18.5:\n",
    "        print(f\"{nombre} estás bajo de peso: IMC = {round(imc_p, 1)}\")\n",
    "\n",
    "    elif imc_p >= 18.5 and imc_p <= 24.9:\n",
    "        print(f\"{nombre} estás en un rango de peso normal: IMC = {round(imc_p, 1)}\")\n",
    "    elif imc_p >= 25 and imc_p < 29:\n",
    "        print(f\"{nombre} estás con sobrepeso: IMC = {round(imc_p, 1)}\")\n",
    "    else:\n",
    "        print(f\"{nombre} estás con sobrepeso: IMC = {round(imc_p, 1)}\")\n",
    "\n",
    "peso_p = persona[\"peso\"]\n",
    "altura_p = persona[\"altura\"]\n",
    "nombre_p = persona[\"nombre\"]\n",
    "\n",
    "imc(altura_p, peso_p, nombre_p)\n"
   ]
  },
  {
   "cell_type": "code",
   "execution_count": null,
   "id": "bdea1f5b",
   "metadata": {},
   "outputs": [],
   "source": [
    "# formala para el imc peso/estatura al cuadrado"
   ]
  },
  {
   "cell_type": "code",
   "execution_count": null,
   "id": "4780e2b6",
   "metadata": {},
   "outputs": [],
   "source": []
  },
  {
   "cell_type": "code",
   "execution_count": null,
   "id": "91869382",
   "metadata": {},
   "outputs": [],
   "source": []
  },
  {
   "cell_type": "code",
   "execution_count": null,
   "id": "b1bd98c3",
   "metadata": {},
   "outputs": [],
   "source": []
  }
 ],
 "metadata": {
  "kernelspec": {
   "display_name": "Python 3 (ipykernel)",
   "language": "python",
   "name": "python3"
  },
  "language_info": {
   "codemirror_mode": {
    "name": "ipython",
    "version": 3
   },
   "file_extension": ".py",
   "mimetype": "text/x-python",
   "name": "python",
   "nbconvert_exporter": "python",
   "pygments_lexer": "ipython3",
   "version": "3.11.4"
  }
 },
 "nbformat": 4,
 "nbformat_minor": 5
}
