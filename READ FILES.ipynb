{
 "cells": [
  {
   "cell_type": "code",
   "execution_count": 1,
   "id": "ed0ec6d1",
   "metadata": {},
   "outputs": [
    {
     "name": "stdout",
     "output_type": "stream",
     "text": [
      "Requirement already satisfied: PyPDF2 in c:\\users\\osmar\\anaconda3\\lib\\site-packages (3.0.1)Note: you may need to restart the kernel to use updated packages.\n",
      "\n"
     ]
    }
   ],
   "source": [
    "pip install PyPDF2"
   ]
  },
  {
   "cell_type": "code",
   "execution_count": 2,
   "id": "66d15377",
   "metadata": {},
   "outputs": [
    {
     "name": "stdout",
     "output_type": "stream",
     "text": [
      "Requirement already satisfied: pandas in c:\\users\\osmar\\anaconda3\\lib\\site-packages (1.5.3)\n",
      "Requirement already satisfied: python-dateutil>=2.8.1 in c:\\users\\osmar\\anaconda3\\lib\\site-packages (from pandas) (2.8.2)\n",
      "Requirement already satisfied: pytz>=2020.1 in c:\\users\\osmar\\anaconda3\\lib\\site-packages (from pandas) (2022.7)\n",
      "Requirement already satisfied: numpy>=1.21.0 in c:\\users\\osmar\\anaconda3\\lib\\site-packages (from pandas) (1.24.3)\n",
      "Requirement already satisfied: six>=1.5 in c:\\users\\osmar\\anaconda3\\lib\\site-packages (from python-dateutil>=2.8.1->pandas) (1.16.0)\n",
      "Note: you may need to restart the kernel to use updated packages.\n"
     ]
    }
   ],
   "source": [
    "pip install pandas"
   ]
  },
  {
   "cell_type": "code",
   "execution_count": 3,
   "id": "edc0f001",
   "metadata": {},
   "outputs": [
    {
     "name": "stdout",
     "output_type": "stream",
     "text": [
      "Collecting python-docx\n",
      "  Obtaining dependency information for python-docx from https://files.pythonhosted.org/packages/5f/d8/6948f7ac00edf74bfa52b3c5e3073df20284bec1db466d13e668fe991707/python_docx-1.1.0-py3-none-any.whl.metadata\n",
      "  Downloading python_docx-1.1.0-py3-none-any.whl.metadata (2.0 kB)\n",
      "Requirement already satisfied: lxml>=3.1.0 in c:\\users\\osmar\\anaconda3\\lib\\site-packages (from python-docx) (4.9.2)\n",
      "Requirement already satisfied: typing-extensions in c:\\users\\osmar\\anaconda3\\lib\\site-packages (from python-docx) (4.7.1)\n",
      "Downloading python_docx-1.1.0-py3-none-any.whl (239 kB)\n",
      "   ---------------------------------------- 0.0/239.6 kB ? eta -:--:--\n",
      "   ---------- ----------------------------- 61.4/239.6 kB 1.1 MB/s eta 0:00:01\n",
      "   ------------------ --------------------- 112.6/239.6 kB 1.3 MB/s eta 0:00:01\n",
      "   ---------------------------------------  235.5/239.6 kB 1.8 MB/s eta 0:00:01\n",
      "   ---------------------------------------- 239.6/239.6 kB 1.5 MB/s eta 0:00:00\n",
      "Installing collected packages: python-docx\n",
      "Successfully installed python-docx-1.1.0\n",
      "Note: you may need to restart the kernel to use updated packages.\n"
     ]
    }
   ],
   "source": [
    "pip install python-docx\n"
   ]
  },
  {
   "cell_type": "code",
   "execution_count": 32,
   "id": "45915db6",
   "metadata": {},
   "outputs": [
    {
     "name": "stdout",
     "output_type": "stream",
     "text": [
      "El silencio invadi o todas las casas de Italia sobre el campo Roberto baggio miraba hacia abajo con \n",
      "los brazos en jarra... No era una simple imagen de Derrota...Era como si aquel prodigio hubiese \n",
      "perdido su alma, nunca antes se habia visto una imagen tan desoladora sobre camp o de f utbol \n",
      " \n"
     ]
    }
   ],
   "source": [
    "import PyPDF2\n",
    "\n",
    "\n",
    "with open('ea.pdf', 'rb') as pdf_file:\n",
    "\n",
    "    pdf_ea = PyPDF2.PdfReader(pdf_file)\n",
    "\n",
    "\n",
    "    paginanumero = len(pdf_ea.pages)\n",
    "\n",
    "    for paginanumero in range(paginanumero):\n",
    "        page = pdf_ea.pages[paginanumero]\n",
    "        text = page.extract_text()\n",
    "        print(text)"
   ]
  },
  {
   "cell_type": "code",
   "execution_count": 28,
   "id": "e425ed82",
   "metadata": {},
   "outputs": [
    {
     "name": "stdout",
     "output_type": "stream",
     "text": [
      "   Unnamed: 0  Unnamed: 1      Unnamed: 2         Unnamed: 3    Unnamed: 4  \\\n",
      "0         NaN         NaN             NaN                NaN           NaN   \n",
      "1         NaN         NaN             NaN                NaN           NaN   \n",
      "2         NaN         NaN             NaN                NaN           NaN   \n",
      "3         NaN         NaN          Estado            Cuidad         Nombre   \n",
      "4         NaN         1.0  BAJA CALFORNIA  Mexicali - Tecate  EL VALLECITO   \n",
      "\n",
      "                                  Unnamed: 5   Unnamed: 6  \n",
      "0                                        NaN          NaN  \n",
      "1                                        NaN          NaN  \n",
      "2                                        NaN          NaN  \n",
      "3                          Coordendas (MAPS)  Descripción  \n",
      "4  https://maps.app.goo.gl/GkoDBfWQGmTUNdey7          NaN  \n"
     ]
    }
   ],
   "source": [
    "import pandas as zonas\n",
    "\n",
    "\n",
    "zonas = pd.read_excel('zonas arqueologicas.xlsx')\n",
    "\n",
    "print(zonas.head())"
   ]
  },
  {
   "cell_type": "code",
   "execution_count": 30,
   "id": "2213e6f0",
   "metadata": {},
   "outputs": [
    {
     "name": "stdout",
     "output_type": "stream",
     "text": [
      "El silencio invadio todas las casas de Italia sobre el campo Roberto baggio miraba hacia abajo con los brazos en jarra... No era una simple imagen de Derrota...Era como si aquel prodigio hubiese perdido su alma, nunca antes se habia visto una imagen tan desoladora sobre campo de futbol\n",
      "\n"
     ]
    }
   ],
   "source": [
    "from docx import Document\n",
    "\n",
    "\n",
    "doc = Document('ea.docx')\n",
    "\n",
    "\n",
    "for paragraph in doc.paragraphs:\n",
    "    print(paragraph.text)"
   ]
  }
 ],
 "metadata": {
  "kernelspec": {
   "display_name": "Python 3 (ipykernel)",
   "language": "python",
   "name": "python3"
  },
  "language_info": {
   "codemirror_mode": {
    "name": "ipython",
    "version": 3
   },
   "file_extension": ".py",
   "mimetype": "text/x-python",
   "name": "python",
   "nbconvert_exporter": "python",
   "pygments_lexer": "ipython3",
   "version": "3.11.4"
  }
 },
 "nbformat": 4,
 "nbformat_minor": 5
}
