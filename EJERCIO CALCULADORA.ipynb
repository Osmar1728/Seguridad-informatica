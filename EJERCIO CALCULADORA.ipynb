{
 "cells": [
  {
   "cell_type": "markdown",
   "id": "e56d1b07",
   "metadata": {},
   "source": [
    "# Tabla de Multiplicar infinita"
   ]
  },
  {
   "cell_type": "code",
   "execution_count": null,
   "id": "79c688e8",
   "metadata": {},
   "outputs": [],
   "source": [
    "# Inicio_rango = 1\n",
    "# Final_rango = 3\n",
    "# Inicio_tabla = 5\n",
    "# final_tabla = 7\n",
    "\n",
    "#debe de iniciar con la tabla del uno al tres.\n",
    "\n"
   ]
  },
  {
   "cell_type": "code",
   "execution_count": 3,
   "id": "3f747ae9",
   "metadata": {},
   "outputs": [
    {
     "name": "stdout",
     "output_type": "stream",
     "text": [
      "Ingresa con que tabla quieres iniciar 1\n",
      "Ingresa con que tabla quieres terminar 3\n",
      "Ingresa con que tabla quieres iniciar 1\n",
      "Ingresa con que tabla quieres terminar 5\n",
      "1 x 1 = 1\n",
      "1 x 2 = 2\n",
      "1 x 3 = 3\n",
      "1 x 4 = 4\n",
      "1 x 5 = 5\n",
      "\n",
      "2 x 1 = 2\n",
      "2 x 2 = 4\n",
      "2 x 3 = 6\n",
      "2 x 4 = 8\n",
      "2 x 5 = 10\n",
      "\n",
      "3 x 1 = 3\n",
      "3 x 2 = 6\n",
      "3 x 3 = 9\n",
      "3 x 4 = 12\n",
      "3 x 5 = 15\n",
      "\n"
     ]
    }
   ],
   "source": [
    "Inicio_rango = int(input(\"Ingresa con que tabla quieres iniciar \"))\n",
    "Final_rango = int(input(\"Ingresa con que tabla quieres terminar \"))\n",
    "Inicio_tabla = int(input(\"Ingresa con que tabla quieres iniciar \"))\n",
    "final_tabla = int(input(\"Ingresa con que tabla quieres terminar \"))\n",
    "\n",
    "for i in range(Inicio_rango, Final_rango+1):\n",
    "    for j in range(Inicio_tabla, final_tabla+1):\n",
    "        print (f\"{i} x {j} = {i*j}\")\n",
    "    print()"
   ]
  },
  {
   "cell_type": "code",
   "execution_count": null,
   "id": "b7e1729c",
   "metadata": {},
   "outputs": [],
   "source": []
  }
 ],
 "metadata": {
  "kernelspec": {
   "display_name": "Python 3 (ipykernel)",
   "language": "python",
   "name": "python3"
  },
  "language_info": {
   "codemirror_mode": {
    "name": "ipython",
    "version": 3
   },
   "file_extension": ".py",
   "mimetype": "text/x-python",
   "name": "python",
   "nbconvert_exporter": "python",
   "pygments_lexer": "ipython3",
   "version": "3.11.4"
  }
 },
 "nbformat": 4,
 "nbformat_minor": 5
}
